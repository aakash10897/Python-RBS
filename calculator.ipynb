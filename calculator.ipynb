{
 "cells": [
  {
   "cell_type": "code",
   "execution_count": 12,
   "metadata": {},
   "outputs": [
    {
     "name": "stdout",
     "output_type": "stream",
     "text": [
      "Enter the operation that you want to perform: +\n",
      "Enter first operand: aakash\n",
      "A cannot be a string\n",
      "Enter first operand: 4\n",
      "Enter second operand3\n",
      "7\n"
     ]
    }
   ],
   "source": [
    "operator=str()\n",
    "operator=input('Enter the operation that you want to perform: ')\n",
    "flag=bool()\n",
    "flag=True;\n",
    "result=float()\n",
    "a=input(\"Enter first operand: \")\n",
    "while flag:\n",
    "    if a.isnumeric():\n",
    "        flag=False\n",
    "        break\n",
    "    print('A cannot be a string')\n",
    "    a=input(\"Enter first operand: \")\n",
    "\n",
    "flag=True\n",
    "b=input('Enter second operand')\n",
    "while flag:\n",
    "    if b.isnumeric():\n",
    "        flag=False\n",
    "        break\n",
    "    print('Enter a number not a string')\n",
    "    b=input(\"Enter first operand: \")\n",
    "\n",
    "a=int(a)\n",
    "b=int(b)\n",
    "    \n",
    "if operator=='+':\n",
    "    result=a+b\n",
    "elif operator=='-':\n",
    "    if a-b>=0:\n",
    "        result=a-b\n",
    "    else:\n",
    "        result=b-a\n",
    "elif operator=='*':\n",
    "    result=a*b\n",
    "elif operator=='/':\n",
    "    result=a/b\n",
    "    \n",
    "print(result)\n"
   ]
  },
  {
   "cell_type": "code",
   "execution_count": null,
   "metadata": {},
   "outputs": [],
   "source": []
  },
  {
   "cell_type": "code",
   "execution_count": null,
   "metadata": {},
   "outputs": [],
   "source": []
  }
 ],
 "metadata": {
  "kernelspec": {
   "display_name": "Python 3",
   "language": "python",
   "name": "python3"
  },
  "language_info": {
   "codemirror_mode": {
    "name": "ipython",
    "version": 3
   },
   "file_extension": ".py",
   "mimetype": "text/x-python",
   "name": "python",
   "nbconvert_exporter": "python",
   "pygments_lexer": "ipython3",
   "version": "3.6.8"
  }
 },
 "nbformat": 4,
 "nbformat_minor": 2
}
